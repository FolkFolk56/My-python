{
 "cells": [
  {
   "cell_type": "code",
   "execution_count": 7,
   "metadata": {},
   "outputs": [
    {
     "name": "stdout",
     "output_type": "stream",
     "text": [
      "ใส่คะแนนเกิน\n",
      "ใส่คะแนนเกิน\n",
      "ใส่คะแนนเกิน\n",
      "ใส่คะแนนเกิน\n",
      "ใส่คะแนนเกิน\n",
      "ใส่คะแนนเกิน\n",
      "ใส่คะแนนเกิน\n",
      "ใส่คะแนนเกิน\n",
      "ใส่คะแนนเกิน\n",
      "ใส่คะแนนเกิน\n",
      "ใส่คะแนนเกิน\n",
      "ใส่คะแนนเกิน\n",
      "ใส่คะแนนเกิน\n",
      "ใส่คะแนนเกิน\n",
      "ใส่คะแนนเกิน\n",
      "ใส่คะแนนเกิน\n"
     ]
    }
   ],
   "source": [
    "def Ba(A,H,C):\n",
    "    V = A+H+C\n",
    "    return V\n",
    "\n",
    "A = int(input(\"คะแนนเก็บ\"))\n",
    "while A > 20:\n",
    "    A = int(input(\"คะแนนเก็บ\"))\n",
    "    print(\"ใส่คะแนนเกิน\")\n",
    "H = int(input(\"คะแนนจิตพิสัย\"))    \n",
    "while H > 10:\n",
    "    H = int(input(\"คะแนนจิตพิสัย\"))   \n",
    "    print(\"ใส่คะแนนเกิน\")\n",
    "C = int(input(\"คะแนนกลางภาค\"))    \n",
    "while C > 20:\n",
    "    C = int(input(\"คะแนนกลางภาค\")) \n",
    "    print(\"ใส่คะแนนเกิน\")\n",
    "\n",
    "print(Ba(A,H,C))"
   ]
  },
  {
   "cell_type": "code",
   "execution_count": 3,
   "metadata": {},
   "outputs": [
    {
     "name": "stdout",
     "output_type": "stream",
     "text": [
      "ใส่คะแนนเกิน\n",
      "ใส่คะแนนเกิน\n",
      "ใส่คะแนนเกิน\n",
      "ใส่คะแนนเกิน\n",
      "50\n"
     ]
    }
   ],
   "source": [
    "def Ba(A,H,C):\n",
    "    V = A+H+C\n",
    "    return V\n",
    "\n",
    "\n",
    "while(True):\n",
    "    A = int(input(\"คะแนนเก็บ\"))\n",
    "    if(A>20):\n",
    "        print(\"ใส่คะแนนเกิน\")\n",
    "    else:\n",
    "        break;\n",
    "while(True):\n",
    "    H = int(input(\"คะแนนจิตพิสัย\"))\n",
    "    if(H>20):\n",
    "        print(\"ใส่คะแนนเกิน\")\n",
    "    else:\n",
    "        break;\n",
    "while(True):\n",
    "    C = int(input(\"คะแนนกลางภาค\"))\n",
    "    if(C>20):\n",
    "        print(\"ใส่คะแนนเกิน\")\n",
    "    else:\n",
    "        break;\n",
    "\n",
    "print(Ba(A,H,C))"
   ]
  },
  {
   "cell_type": "code",
   "execution_count": 7,
   "metadata": {},
   "outputs": [
    {
     "name": "stdout",
     "output_type": "stream",
     "text": [
      "20\n"
     ]
    }
   ],
   "source": [
    "\n",
    "A = int(input(\"คะแนนเก็บ\"))\n",
    "while A > 20:\n",
    "    A = int(input(\"คะแนนเก็บ\"))\n",
    "print (A)\n"
   ]
  }
 ],
 "metadata": {
  "kernelspec": {
   "display_name": "Python 3",
   "language": "python",
   "name": "python3"
  },
  "language_info": {
   "codemirror_mode": {
    "name": "ipython",
    "version": 3
   },
   "file_extension": ".py",
   "mimetype": "text/x-python",
   "name": "python",
   "nbconvert_exporter": "python",
   "pygments_lexer": "ipython3",
   "version": "3.12.4"
  }
 },
 "nbformat": 4,
 "nbformat_minor": 2
}
