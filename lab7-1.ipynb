{
 "cells": [
  {
   "cell_type": "code",
   "execution_count": 59,
   "metadata": {},
   "outputs": [
    {
     "name": "stdout",
     "output_type": "stream",
     "text": [
      "ชื่อพนักงาน โนสา\n",
      "เงินเดือน 10000.00\n",
      "ชั่วโมงล่วงเวลา: 50\n",
      "ค่าล่วงเวลา: 7500.00\n",
      "รวมเป็นเงินเดือนทั้งสิน17500.00\n"
     ]
    }
   ],
   "source": [
    "def CC(C):\n",
    "    F = float\n",
    "    if(C<40):\n",
    "        F = C * 100\n",
    "    elif (C>40):\n",
    "        F = C * 150\n",
    "    return F\n",
    "def CB(H,C,B):\n",
    "    G = float\n",
    "    G = H + B\n",
    "    return G\n",
    "\n",
    "A = str(input(\"ชื่อพนักงาน:\"))\n",
    "print (\"ชื่อพนักงาน \" + str(A))\n",
    "B = float(input(\"เงินเดือน:\" \"%.2f\"))\n",
    "print (\"เงินเดือน \" + \"%.2f\"%B)\n",
    "C = int(input(\"ชั่วโมงล่วงเวลา:\"))\n",
    "print (\"ชั่วโมงล่วงเวลา: \" + str(C))\n",
    "print (\"ค่าล่วงเวลา: \" + \"%.2f\"%CC(C))\n",
    "print (\"รวมเป็นเงินเดือนทั้งสิน: \" + \"%.2f\" %CB(CC(C),C,B))"
   ]
  },
  {
   "cell_type": "code",
   "execution_count": 67,
   "metadata": {},
   "outputs": [
    {
     "name": "stdout",
     "output_type": "stream",
     "text": [
      ".!entry\n"
     ]
    }
   ],
   "source": [
    "import tkinter as tk \n",
    "app = tk.Tk()\n",
    "app.geometry(\"500x300\")\n",
    "\n",
    "def showme(n):\n",
    "    print(n)\n",
    "\n",
    "app.title('Design by Folk')\n",
    "label = tk.Label(text=\"ชื่อพนักงาน:\")\n",
    "name = tk.Entry()\n",
    "labe12 = tk.Label(text=\"เงินเดือน\")\n",
    "salary = tk.Entry()\n",
    "btn = tk.Button(text=\"คลิกฉัน\", command=showme(name))\n",
    "\n",
    "\n",
    "\n",
    "label.place(x=50, y=50)\n",
    "name.place(x=150, y=50)\n",
    "labe12.place(x=50, y=100)\n",
    "salary.place(x=150, y=100)\n",
    "btn.place(x=50, y=150)\n",
    "\n",
    "app.mainloop()"
   ]
  }
 ],
 "metadata": {
  "kernelspec": {
   "display_name": "Python 3",
   "language": "python",
   "name": "python3"
  },
  "language_info": {
   "codemirror_mode": {
    "name": "ipython",
    "version": 3
   },
   "file_extension": ".py",
   "mimetype": "text/x-python",
   "name": "python",
   "nbconvert_exporter": "python",
   "pygments_lexer": "ipython3",
   "version": "3.12.4"
  }
 },
 "nbformat": 4,
 "nbformat_minor": 2
}
